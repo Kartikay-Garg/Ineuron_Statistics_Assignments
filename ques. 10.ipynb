{
 "cells": [
  {
   "cell_type": "code",
   "execution_count": null,
   "id": "e15b0a09-9b1b-4d70-b944-b85c4146673c",
   "metadata": {},
   "outputs": [],
   "source": [
    "Q-10. A factory produces light bulbs, and the probability of a bulb being defective is 0.05.\n",
    "The factory produces a large batch of 500 light bulbs.\n",
    "a. What is the probability that exactly 20 bulbs are defective?\n",
    "b. What is the probability that at least 10 bulbs are defective?\n",
    "c. What is the probability that at max 15 bulbs are defective?\n",
    "d. On average, how many defective bulbs would you expect in a batch of 500?"
   ]
  },
  {
   "cell_type": "markdown",
   "id": "addd1a61-d656-4605-ba6f-8ae024fc5e48",
   "metadata": {},
   "source": [
    "Probability of the bulb being defective is 0.05 or 5%. \n",
    "n, no.of light bulbs produced = 500\n",
    "The binomial distribution probability mass function (PMF) formula is:\n",
    "P(X = k) = C(n, k) * p^k * (1 - p)^(n - k)"
   ]
  },
  {
   "cell_type": "markdown",
   "id": "9d3bda47-94bf-439e-b1c5-a4a1ba4acf77",
   "metadata": {},
   "source": [
    "a) probability that exactly 20 bulbs are defective"
   ]
  },
  {
   "cell_type": "code",
   "execution_count": 1,
   "id": "ec2edee8-03ff-46fd-aaa3-b7918ea54b71",
   "metadata": {},
   "outputs": [
    {
     "name": "stdout",
     "output_type": "stream",
     "text": [
      "Probability of exactly 20 bulbs being defective: 0.05161619253663997\n"
     ]
    }
   ],
   "source": [
    "from math import comb\n",
    "\n",
    "n = 500\n",
    "k = 20\n",
    "p = 0.05\n",
    "\n",
    "probability = comb(n, k) * (p ** k) * ((1 - p) ** (n - k))\n",
    "print(\"Probability of exactly 20 bulbs being defective:\", probability)"
   ]
  },
  {
   "cell_type": "markdown",
   "id": "6bbd8512-975e-4a02-aedc-65b43f2fb0b2",
   "metadata": {},
   "source": [
    "b. To find the probability of at least 10 bulbs being defective (1 - cumulative probability of 9 or fewer defective bulbs):"
   ]
  },
  {
   "cell_type": "code",
   "execution_count": 2,
   "id": "0f729547-6d2c-4089-a473-5cc33aecd787",
   "metadata": {},
   "outputs": [
    {
     "name": "stdout",
     "output_type": "stream",
     "text": [
      "Probability of at least 10 bulbs being defective: 0.9998316463654902\n"
     ]
    }
   ],
   "source": [
    "from scipy.stats import binom\n",
    "\n",
    "k = 9\n",
    "probability = 1 - binom.cdf(k, n, p)\n",
    "print(\"Probability of at least 10 bulbs being defective:\", probability)\n"
   ]
  },
  {
   "cell_type": "markdown",
   "id": "d8853089-f55a-4de3-854b-91911fdf6b7b",
   "metadata": {},
   "source": [
    "c. To find the probability of at most 15 bulbs being defective (cumulative probability of 15 or fewer defective bulbs):"
   ]
  },
  {
   "cell_type": "code",
   "execution_count": 3,
   "id": "d6e97fd5-3243-4692-ab98-1f5b6ebac055",
   "metadata": {},
   "outputs": [
    {
     "name": "stdout",
     "output_type": "stream",
     "text": [
      "Probability of at most 15 bulbs being defective: 0.01985837716300623\n"
     ]
    }
   ],
   "source": [
    "k = 15\n",
    "probability = binom.cdf(k, n, p)\n",
    "print(\"Probability of at most 15 bulbs being defective:\", probability)"
   ]
  },
  {
   "cell_type": "markdown",
   "id": "692107ec-81bf-402b-9cd1-6998f5e551c1",
   "metadata": {},
   "source": [
    "d. To calculate the expected number of defective bulbs in a batch of 500:"
   ]
  },
  {
   "cell_type": "code",
   "execution_count": 4,
   "id": "218d7c72-911f-4820-8709-5a6111c87d6b",
   "metadata": {},
   "outputs": [
    {
     "name": "stdout",
     "output_type": "stream",
     "text": [
      "Expected number of defective bulbs: 25.0\n"
     ]
    }
   ],
   "source": [
    "expected_defective = n * p\n",
    "print(\"Expected number of defective bulbs:\", expected_defective)\n"
   ]
  },
  {
   "cell_type": "code",
   "execution_count": null,
   "id": "8ba56c9e-2056-44fe-b164-f9fdda662350",
   "metadata": {},
   "outputs": [],
   "source": []
  }
 ],
 "metadata": {
  "kernelspec": {
   "display_name": "Python 3 (ipykernel)",
   "language": "python",
   "name": "python3"
  },
  "language_info": {
   "codemirror_mode": {
    "name": "ipython",
    "version": 3
   },
   "file_extension": ".py",
   "mimetype": "text/x-python",
   "name": "python",
   "nbconvert_exporter": "python",
   "pygments_lexer": "ipython3",
   "version": "3.10.6"
  }
 },
 "nbformat": 4,
 "nbformat_minor": 5
}
