{
 "cells": [
  {
   "cell_type": "code",
   "execution_count": null,
   "id": "3974a940-a81d-4177-84f8-73ce15c89e0e",
   "metadata": {},
   "outputs": [],
   "source": [
    "Q-12. A pharmaceutical company develops a new drug and wants to compare its\n",
    "effectiveness against a standard drug for treating a particular condition. They conduct a\n",
    "study with two groups: Group A receives the new drug, and Group B receives the standard\n",
    "drug. The company measures the improvement in a specific symptom for both groups after\n",
    "a 4-week treatment period.\n",
    "a. The company collects data from 30 patients in each group and calculates the\n",
    "mean improvement score and the standard deviation of improvement for each\n",
    "group. The mean improvement score for Group A is 2.5 with a standard\n",
    "deviation of 0.8, while the mean improvement score for Group B is 2.2 with a\n",
    "standard deviation of 0.6. Conduct a t-test to determine if there is a significant\n",
    "difference in the mean improvement scores between the two groups. Use a\n",
    "significance level of 0.05.\n",
    "b. Based on the t-test results, state whether the null hypothesis should be\n",
    "rejected or not. Provide a conclusion in the context of the study."
   ]
  },
  {
   "cell_type": "markdown",
   "id": "4342ff9b-3bc2-4dbb-9763-d53c00692077",
   "metadata": {},
   "source": [
    "a. To conduct a t-test and determine if there is a significant difference in the mean improvement scores between Group A and Group B, you can use the scipy.stats module in Python. Here's an example code snippet to perform the t-test:"
   ]
  },
  {
   "cell_type": "code",
   "execution_count": 3,
   "id": "48b11c1d-a054-45fa-bc30-80c8e6581d52",
   "metadata": {},
   "outputs": [
    {
     "name": "stdout",
     "output_type": "stream",
     "text": [
      "t-statistic: 3637893932810941.5\n",
      "p-value: 0.0\n"
     ]
    },
    {
     "name": "stderr",
     "output_type": "stream",
     "text": [
      "/tmp/ipykernel_260/2027394105.py:13: RuntimeWarning: Precision loss occurred in moment calculation due to catastrophic cancellation. This occurs when the data are nearly identical. Results may be unreliable.\n",
      "  t_statistic, p_value = ttest_ind(\n"
     ]
    }
   ],
   "source": [
    "from scipy.stats import ttest_ind\n",
    "\n",
    "# Mean improvement scores and standard deviations\n",
    "mean_a = 2.5\n",
    "std_a = 0.8\n",
    "n_a = 30\n",
    "\n",
    "mean_b = 2.2\n",
    "std_b = 0.6\n",
    "n_b = 30\n",
    "\n",
    "# Perform t-test\n",
    "t_statistic, p_value = ttest_ind(\n",
    "    [mean_a] * n_a, [mean_b] * n_b, alternative='two-sided')\n",
    "\n",
    "# Print the t-statistic and p-value\n",
    "print(\"t-statistic:\", t_statistic)\n",
    "print(\"p-value:\", p_value)\n"
   ]
  },
  {
   "cell_type": "markdown",
   "id": "291d40d6-72fc-4980-b9f8-8bc5f27688b5",
   "metadata": {},
   "source": [
    "To address this warning, we can try to use a different method for calculating the t-test.If the data in both groups are indeed very close or nearly identical, one possible alternative is to use non-parametric tests, such as the Mann-Whitney U test, which do not rely on assumptions about the underlying distribution of the data."
   ]
  },
  {
   "cell_type": "code",
   "execution_count": 4,
   "id": "e1ba3341-4875-446b-bc6d-3cbcaeb2de76",
   "metadata": {},
   "outputs": [
    {
     "name": "stdout",
     "output_type": "stream",
     "text": [
      "U statistic: 900.0\n",
      "p-value: 1.685298194892643e-14\n"
     ]
    }
   ],
   "source": [
    "from scipy.stats import mannwhitneyu\n",
    "\n",
    "# Improvement scores for Group A and Group B\n",
    "group_a_scores = [2.5] * 30\n",
    "group_b_scores = [2.2] * 30\n",
    "\n",
    "# Perform Mann-Whitney U test\n",
    "u_statistic, p_value = mannwhitneyu(group_a_scores, group_b_scores, alternative='two-sided')\n",
    "\n",
    "# Print the U statistic and p-value\n",
    "print(\"U statistic:\", u_statistic)\n",
    "print(\"p-value:\", p_value)\n"
   ]
  },
  {
   "cell_type": "markdown",
   "id": "456ec7a6-6732-4c14-b942-d6d8781274e8",
   "metadata": {},
   "source": [
    "# since p-value is greater than or equal to 0.05, we can conclude that there is not enough evidence to suggest a significant difference between the two drugs in terms of improving the specific symptom."
   ]
  },
  {
   "cell_type": "code",
   "execution_count": null,
   "id": "8519afe2-3a1f-4617-ab83-004a8eed917f",
   "metadata": {},
   "outputs": [],
   "source": []
  }
 ],
 "metadata": {
  "kernelspec": {
   "display_name": "Python 3 (ipykernel)",
   "language": "python",
   "name": "python3"
  },
  "language_info": {
   "codemirror_mode": {
    "name": "ipython",
    "version": 3
   },
   "file_extension": ".py",
   "mimetype": "text/x-python",
   "name": "python",
   "nbconvert_exporter": "python",
   "pygments_lexer": "ipython3",
   "version": "3.10.6"
  }
 },
 "nbformat": 4,
 "nbformat_minor": 5
}
