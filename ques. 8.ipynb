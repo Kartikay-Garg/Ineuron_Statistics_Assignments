{
 "cells": [
  {
   "cell_type": "markdown",
   "id": "afc8e4bf-7be8-43f4-ac0c-acc4a7ce219e",
   "metadata": {},
   "source": [
    "Q-8. The anxiety levels of 10 participants were measured before and after a new therapy.\n",
    "The scores are not normally distributed. Use the Wilcoxon signed-rank test to test whether\n",
    "the therapy had a significant effect on anxiety levels. The data is given below: Participant\n",
    "Before therapy After therapy Difference"
   ]
  },
  {
   "cell_type": "code",
   "execution_count": 1,
   "id": "c57c2687-eb72-48db-91ed-45cb33625c28",
   "metadata": {},
   "outputs": [
    {
     "name": "stdout",
     "output_type": "stream",
     "text": [
      "  Participant  Before_therapy  After_therapy  Difference\n",
      "0           1              10              7          -3\n",
      "1           2               8              6          -2\n",
      "2           3              12             10          -2\n",
      "3           4              15             12          -3\n",
      "4           5               6              5          -1\n",
      "5           6               9              8          -1\n",
      "6           7              11              9          -2\n",
      "7           8               7              6          -1\n",
      "8           9              14             12          -2\n",
      "9          10              10              8          -2\n"
     ]
    }
   ],
   "source": [
    "import pandas as pd\n",
    "\n",
    "# Data for the table\n",
    "data = {\n",
    "    'Participant': ['1', '2', '3', '4', '5', '6', '7', '8', '9', '10'],\n",
    "    'Before_therapy': [10, 8, 12, 15, 6, 9, 11, 7, 14, 10],\n",
    "    'After_therapy': [7, 6, 10, 12, 5, 8, 9, 6, 12, 8]\n",
    "}\n",
    "\n",
    "# Create a DataFrame from the data\n",
    "df = pd.DataFrame(data)\n",
    "\n",
    "# Calculate the differences between before and after therapy\n",
    "df['Difference'] = df['After_therapy'] - df['Before_therapy']\n",
    "\n",
    "# Display the table\n",
    "print(df)\n"
   ]
  },
  {
   "cell_type": "code",
   "execution_count": 2,
   "id": "d2a3bca4-55c8-4dff-9f99-3c69493c0474",
   "metadata": {},
   "outputs": [
    {
     "name": "stdout",
     "output_type": "stream",
     "text": [
      "Test Statistic: 0.0\n",
      "P-value: 0.001953125\n"
     ]
    }
   ],
   "source": [
    "from scipy.stats import wilcoxon\n",
    "Before_therapy =  [10, 8, 12, 15, 6, 9, 11, 7, 14, 10]\n",
    "After_therapy =  [7, 6, 10, 12, 5, 8, 9, 6, 12, 8]\n",
    "differences = [After_therapy[i] - Before_therapy[i] for i in range(len(Before_therapy))]\n",
    "\n",
    "# Perform Wilcoxon signed-rank test\n",
    "statistic, p_value = wilcoxon(differences)\n",
    "\n",
    "# Print the test statistic and p-value\n",
    "print(\"Test Statistic:\", statistic)\n",
    "print(\"P-value:\", p_value)"
   ]
  },
  {
   "cell_type": "markdown",
   "id": "bc11bc42-2f02-48cb-b535-9297d45f7e1f",
   "metadata": {},
   "source": [
    "# The test statistic represents the sum of the ranks of the differences, and the p-value indicates the significance level."
   ]
  },
  {
   "cell_type": "code",
   "execution_count": null,
   "id": "c3f102a1-9c7b-445c-a8ee-be4dc4adf13e",
   "metadata": {},
   "outputs": [],
   "source": []
  }
 ],
 "metadata": {
  "kernelspec": {
   "display_name": "Python 3 (ipykernel)",
   "language": "python",
   "name": "python3"
  },
  "language_info": {
   "codemirror_mode": {
    "name": "ipython",
    "version": 3
   },
   "file_extension": ".py",
   "mimetype": "text/x-python",
   "name": "python",
   "nbconvert_exporter": "python",
   "pygments_lexer": "ipython3",
   "version": "3.10.6"
  }
 },
 "nbformat": 4,
 "nbformat_minor": 5
}
